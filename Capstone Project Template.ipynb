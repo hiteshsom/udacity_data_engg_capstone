{
 "cells": [
  {
   "cell_type": "markdown",
   "metadata": {},
   "source": [
    "# Project Title\n",
    "### Data Engineering Capstone Project\n",
    "\n",
    "#### Project Summary\n",
    "--describe your project at a high level--\n",
    "This project aims at developing a data model of bike sharing system for easy analysis.\n",
    "\n",
    "The project follows the follow steps:\n",
    "* Step 1: Scope the Project and Gather Data\n",
    "* Step 2: Explore and Assess the Data\n",
    "* Step 3: Define the Data Model\n",
    "* Step 4: Run ETL to Model the Data\n",
    "* Step 5: Complete Project Write Up"
   ]
  },
  {
   "cell_type": "code",
   "execution_count": 1,
   "metadata": {},
   "outputs": [],
   "source": [
    "# Do all imports and installs here\n",
    "import pandas as pd\n",
    "# import configparser\n",
    "# from datetime import datetime\n",
    "# import os\n",
    "# from pyspark.sql import SparkSession\n",
    "# from pyspark.sql.functions import udf, col\n",
    "# from pyspark.sql.functions import year, month, dayofmonth, hour, weekofyear, date_format"
   ]
  },
  {
   "cell_type": "markdown",
   "metadata": {},
   "source": [
    "### Step 1: Scope the Project and Gather Data\n",
    "\n",
    "#### Scope \n",
    "Explain what you plan to do in the project in more detail. What data do you use? What is your end solution look like? What tools did you use? etc>\n",
    "\n",
    "The data is about bike sharing rides of two cities New York city and Bay Area. \n",
    "The data exist for August, 2019 of both the cities. \n",
    "The end use case for this is to make data available in a format suitable for analysis.\n",
    "The tools I am going to use is jupyter lab.\n",
    "\n",
    "#### Describe and Gather Data \n",
    "Describe the data sets you're using. Where did it come from? What type of information is included? \n",
    "The dataset are about bike rides in New york city and Bay Area.\n",
    "\n",
    "The data set were downloaded from \n",
    "1. https://www.citibikenyc.com/system-data\n",
    "2. https://s3.amazonaws.com/baywheels-data/index.html\n",
    "\n",
    "The information included is about bike ride and some information about rider.\n",
    "For example: duration of ride, bike start station location, bike end_station_location, gender of the rider, birth_year etc.\n"
   ]
  },
  {
   "cell_type": "code",
   "execution_count": 2,
   "metadata": {},
   "outputs": [],
   "source": [
    "# Read in the data here\n",
    "bay_area = pd.read_csv(\"C:\\\\Users\\\\Hitesh Somani\\\\Documents\\\\udacity\\\\capstone_project\\\\baywheels_bay_area\\\\201908-bay-area-tripdata.csv\")\n",
    "nyc = pd.read_csv(\"C:\\\\Users\\\\Hitesh Somani\\\\Documents\\\\udacity\\\\capstone_project\\\\citibike_nyc\\\\201908-nyc-tripdata.csv\")"
   ]
  },
  {
   "cell_type": "code",
   "execution_count": 3,
   "metadata": {},
   "outputs": [],
   "source": [
    "# from pyspark.sql import SparkSession\n",
    "# spark = SparkSession.builder.\\\n",
    "# config(\"spark.jars.packages\",\"saurfang:spark-sas7bdat:2.0.0-s_2.11\")\\\n",
    "# .enableHiveSupport().getOrCreate()\n",
    "# df_spark =spark.read.format('com.github.saurfang.sas.spark').load('../../data/18-83510-I94-Data-2016/i94_apr16_sub.sas7bdat')\n"
   ]
  },
  {
   "cell_type": "code",
   "execution_count": 4,
   "metadata": {},
   "outputs": [],
   "source": [
    "#write to parquet\n",
    "# df_spark.write.parquet(\"sas_data\")\n",
    "# df_spark=spark.read.parquet(\"sas_data\")"
   ]
  },
  {
   "cell_type": "markdown",
   "metadata": {},
   "source": [
    "### Step 2: Explore and Assess the Data\n",
    "#### Explore the Data \n",
    "Identify data quality issues, like missing values, duplicate data, etc.\n",
    "\n",
    "#### Cleaning Steps\n",
    "Document steps necessary to clean the data\n",
    "\n",
    "- We have few missing in both the tables \n",
    "- The column names are not same"
   ]
  },
  {
   "cell_type": "code",
   "execution_count": 5,
   "metadata": {},
   "outputs": [
    {
     "data": {
      "text/plain": [
       "duration_sec               0.000000\n",
       "start_time                 0.000000\n",
       "end_time                   0.000000\n",
       "start_station_id           0.000000\n",
       "start_station_name         0.000000\n",
       "start_station_latitude     0.000000\n",
       "start_station_longitude    0.000000\n",
       "end_station_id             0.000000\n",
       "end_station_name           0.000000\n",
       "end_station_latitude       0.000000\n",
       "end_station_longitude      0.000000\n",
       "bike_id                    0.000000\n",
       "user_type                  0.000000\n",
       "member_birth_year          0.188965\n",
       "member_gender              0.188951\n",
       "bike_share_for_all_trip    0.000000\n",
       "dtype: float64"
      ]
     },
     "execution_count": 5,
     "metadata": {},
     "output_type": "execute_result"
    }
   ],
   "source": [
    "# Performing cleaning tasks here\n",
    "bay_area.isnull().sum()/ bay_area.shape[0]"
   ]
  },
  {
   "cell_type": "code",
   "execution_count": 6,
   "metadata": {},
   "outputs": [
    {
     "data": {
      "text/plain": [
       "tripduration               0.000000\n",
       "starttime                  0.000000\n",
       "stoptime                   0.000000\n",
       "start station id           0.000038\n",
       "start station name         0.000038\n",
       "start station latitude     0.000000\n",
       "start station longitude    0.000000\n",
       "end station id             0.000038\n",
       "end station name           0.000038\n",
       "end station latitude       0.000000\n",
       "end station longitude      0.000000\n",
       "bikeid                     0.000000\n",
       "usertype                   0.000000\n",
       "birth year                 0.000000\n",
       "gender                     0.000000\n",
       "dtype: float64"
      ]
     },
     "execution_count": 6,
     "metadata": {},
     "output_type": "execute_result"
    }
   ],
   "source": [
    "nyc.isnull().sum()/nyc.shape[0]"
   ]
  },
  {
   "cell_type": "markdown",
   "metadata": {},
   "source": [
    "We have few missing in both the tables and also the column names are not same"
   ]
  },
  {
   "cell_type": "code",
   "execution_count": 7,
   "metadata": {},
   "outputs": [],
   "source": [
    "# The bay_area table's column name are much better so we will change nyc table column name\n",
    "bay_area_cols = list(bay_area.columns)\n",
    "nyc_cols = list(nyc.columns)"
   ]
  },
  {
   "cell_type": "code",
   "execution_count": 8,
   "metadata": {},
   "outputs": [],
   "source": [
    "for i in range(15):\n",
    "    nyc = nyc.rename(columns={nyc_cols[i]: bay_area_cols[i]})"
   ]
  },
  {
   "cell_type": "code",
   "execution_count": 9,
   "metadata": {},
   "outputs": [],
   "source": [
    "# bay_area table has 'bike_share_for_all_trip' column which is not available in nyc table. So dropping it.\n",
    "bay_area = bay_area.drop(columns=['bike_share_for_all_trip'])"
   ]
  },
  {
   "cell_type": "code",
   "execution_count": 10,
   "metadata": {},
   "outputs": [
    {
     "name": "stdout",
     "output_type": "stream",
     "text": [
      "0\n",
      "0\n"
     ]
    }
   ],
   "source": [
    "# Check duplication\n",
    "print(bay_area.duplicated().sum())\n",
    "print(nyc.duplicated().sum())"
   ]
  },
  {
   "cell_type": "code",
   "execution_count": 11,
   "metadata": {},
   "outputs": [],
   "source": [
    "# Handling missing values. Since both the tables have less than 20% missing we will drop rows which have missing values\n",
    "bay_area = bay_area.dropna()\n",
    "nyc = nyc.dropna()"
   ]
  },
  {
   "cell_type": "code",
   "execution_count": 15,
   "metadata": {},
   "outputs": [
    {
     "data": {
      "text/html": [
       "<div>\n",
       "<style scoped>\n",
       "    .dataframe tbody tr th:only-of-type {\n",
       "        vertical-align: middle;\n",
       "    }\n",
       "\n",
       "    .dataframe tbody tr th {\n",
       "        vertical-align: top;\n",
       "    }\n",
       "\n",
       "    .dataframe thead th {\n",
       "        text-align: right;\n",
       "    }\n",
       "</style>\n",
       "<table border=\"1\" class=\"dataframe\">\n",
       "  <thead>\n",
       "    <tr style=\"text-align: right;\">\n",
       "      <th></th>\n",
       "      <th>duration_sec</th>\n",
       "      <th>start_time</th>\n",
       "      <th>end_time</th>\n",
       "      <th>start_station_id</th>\n",
       "      <th>start_station_name</th>\n",
       "      <th>start_station_latitude</th>\n",
       "      <th>start_station_longitude</th>\n",
       "      <th>end_station_id</th>\n",
       "      <th>end_station_name</th>\n",
       "      <th>end_station_latitude</th>\n",
       "      <th>end_station_longitude</th>\n",
       "      <th>bike_id</th>\n",
       "      <th>user_type</th>\n",
       "      <th>member_birth_year</th>\n",
       "      <th>member_gender</th>\n",
       "    </tr>\n",
       "  </thead>\n",
       "  <tbody>\n",
       "    <tr>\n",
       "      <td>0</td>\n",
       "      <td>393</td>\n",
       "      <td>2019-08-01 00:00:01.4680</td>\n",
       "      <td>2019-08-01 00:06:35.3780</td>\n",
       "      <td>531.0</td>\n",
       "      <td>Forsyth St &amp; Broome St</td>\n",
       "      <td>40.718939</td>\n",
       "      <td>-73.992663</td>\n",
       "      <td>408.0</td>\n",
       "      <td>Market St &amp; Cherry St</td>\n",
       "      <td>40.710762</td>\n",
       "      <td>-73.994004</td>\n",
       "      <td>35305</td>\n",
       "      <td>Subscriber</td>\n",
       "      <td>1996</td>\n",
       "      <td>2</td>\n",
       "    </tr>\n",
       "    <tr>\n",
       "      <td>1</td>\n",
       "      <td>627</td>\n",
       "      <td>2019-08-01 00:00:01.9290</td>\n",
       "      <td>2019-08-01 00:10:29.7840</td>\n",
       "      <td>274.0</td>\n",
       "      <td>Lafayette Ave &amp; Fort Greene Pl</td>\n",
       "      <td>40.686919</td>\n",
       "      <td>-73.976682</td>\n",
       "      <td>3409.0</td>\n",
       "      <td>Bergen St &amp; Smith St</td>\n",
       "      <td>40.686744</td>\n",
       "      <td>-73.990632</td>\n",
       "      <td>38822</td>\n",
       "      <td>Subscriber</td>\n",
       "      <td>1998</td>\n",
       "      <td>2</td>\n",
       "    </tr>\n",
       "    <tr>\n",
       "      <td>2</td>\n",
       "      <td>1132</td>\n",
       "      <td>2019-08-01 00:00:04.0480</td>\n",
       "      <td>2019-08-01 00:18:56.1650</td>\n",
       "      <td>2000.0</td>\n",
       "      <td>Front St &amp; Washington St</td>\n",
       "      <td>40.702551</td>\n",
       "      <td>-73.989402</td>\n",
       "      <td>3388.0</td>\n",
       "      <td>President St &amp; Henry St</td>\n",
       "      <td>40.682800</td>\n",
       "      <td>-73.999904</td>\n",
       "      <td>18373</td>\n",
       "      <td>Subscriber</td>\n",
       "      <td>1988</td>\n",
       "      <td>1</td>\n",
       "    </tr>\n",
       "    <tr>\n",
       "      <td>3</td>\n",
       "      <td>1780</td>\n",
       "      <td>2019-08-01 00:00:04.1630</td>\n",
       "      <td>2019-08-01 00:29:44.7940</td>\n",
       "      <td>479.0</td>\n",
       "      <td>9 Ave &amp; W 45 St</td>\n",
       "      <td>40.760193</td>\n",
       "      <td>-73.991255</td>\n",
       "      <td>473.0</td>\n",
       "      <td>Rivington St &amp; Chrystie St</td>\n",
       "      <td>40.721101</td>\n",
       "      <td>-73.991925</td>\n",
       "      <td>25002</td>\n",
       "      <td>Subscriber</td>\n",
       "      <td>1988</td>\n",
       "      <td>1</td>\n",
       "    </tr>\n",
       "    <tr>\n",
       "      <td>4</td>\n",
       "      <td>1517</td>\n",
       "      <td>2019-08-01 00:00:05.4580</td>\n",
       "      <td>2019-08-01 00:25:23.4550</td>\n",
       "      <td>3312.0</td>\n",
       "      <td>1 Ave &amp; E 94 St</td>\n",
       "      <td>40.781721</td>\n",
       "      <td>-73.945940</td>\n",
       "      <td>3312.0</td>\n",
       "      <td>1 Ave &amp; E 94 St</td>\n",
       "      <td>40.781721</td>\n",
       "      <td>-73.945940</td>\n",
       "      <td>31198</td>\n",
       "      <td>Subscriber</td>\n",
       "      <td>1965</td>\n",
       "      <td>2</td>\n",
       "    </tr>\n",
       "  </tbody>\n",
       "</table>\n",
       "</div>"
      ],
      "text/plain": [
       "   duration_sec                start_time                  end_time  \\\n",
       "0           393  2019-08-01 00:00:01.4680  2019-08-01 00:06:35.3780   \n",
       "1           627  2019-08-01 00:00:01.9290  2019-08-01 00:10:29.7840   \n",
       "2          1132  2019-08-01 00:00:04.0480  2019-08-01 00:18:56.1650   \n",
       "3          1780  2019-08-01 00:00:04.1630  2019-08-01 00:29:44.7940   \n",
       "4          1517  2019-08-01 00:00:05.4580  2019-08-01 00:25:23.4550   \n",
       "\n",
       "   start_station_id              start_station_name  start_station_latitude  \\\n",
       "0             531.0          Forsyth St & Broome St               40.718939   \n",
       "1             274.0  Lafayette Ave & Fort Greene Pl               40.686919   \n",
       "2            2000.0        Front St & Washington St               40.702551   \n",
       "3             479.0                 9 Ave & W 45 St               40.760193   \n",
       "4            3312.0                 1 Ave & E 94 St               40.781721   \n",
       "\n",
       "   start_station_longitude  end_station_id            end_station_name  \\\n",
       "0               -73.992663           408.0       Market St & Cherry St   \n",
       "1               -73.976682          3409.0        Bergen St & Smith St   \n",
       "2               -73.989402          3388.0     President St & Henry St   \n",
       "3               -73.991255           473.0  Rivington St & Chrystie St   \n",
       "4               -73.945940          3312.0             1 Ave & E 94 St   \n",
       "\n",
       "   end_station_latitude  end_station_longitude  bike_id   user_type  \\\n",
       "0             40.710762             -73.994004    35305  Subscriber   \n",
       "1             40.686744             -73.990632    38822  Subscriber   \n",
       "2             40.682800             -73.999904    18373  Subscriber   \n",
       "3             40.721101             -73.991925    25002  Subscriber   \n",
       "4             40.781721             -73.945940    31198  Subscriber   \n",
       "\n",
       "   member_birth_year  member_gender  \n",
       "0               1996              2  \n",
       "1               1998              2  \n",
       "2               1988              1  \n",
       "3               1988              1  \n",
       "4               1965              2  "
      ]
     },
     "execution_count": 15,
     "metadata": {},
     "output_type": "execute_result"
    }
   ],
   "source": [
    "nyc.head()"
   ]
  },
  {
   "cell_type": "code",
   "execution_count": 16,
   "metadata": {},
   "outputs": [
    {
     "data": {
      "text/plain": [
       "array(['Female', 'Male', 'Other'], dtype=object)"
      ]
     },
     "execution_count": 16,
     "metadata": {},
     "output_type": "execute_result"
    }
   ],
   "source": [
    "bay_area['member_gender'].unique()"
   ]
  },
  {
   "cell_type": "code",
   "execution_count": null,
   "metadata": {},
   "outputs": [],
   "source": []
  },
  {
   "cell_type": "markdown",
   "metadata": {},
   "source": [
    "### Step 3: Define the Data Model\n",
    "#### 3.1 Conceptual Data Model\n",
    "Map out the conceptual data model and explain why you chose that model\n",
    "The conceptual data model will be star schema.\n",
    "Dimension tables: Station, user and time\n",
    "Fact: trips\n",
    "\n",
    "#### 3.2 Mapping Out Data Pipelines\n",
    "List the steps necessary to pipeline the data into the chosen data model\n",
    "1. Make dimensional tables\n",
    "2. Make fact tables"
   ]
  },
  {
   "cell_type": "markdown",
   "metadata": {},
   "source": [
    "### Step 4: Run Pipelines to Model the Data \n",
    "#### 4.1 Create the data model\n",
    "Build the data pipelines to create the data model."
   ]
  },
  {
   "cell_type": "code",
   "execution_count": 15,
   "metadata": {},
   "outputs": [
    {
     "data": {
      "text/plain": [
       "['duration_sec',\n",
       " 'start_time',\n",
       " 'end_time',\n",
       " 'start_station_id',\n",
       " 'start_station_name',\n",
       " 'start_station_latitude',\n",
       " 'start_station_longitude',\n",
       " 'end_station_id',\n",
       " 'end_station_name',\n",
       " 'end_station_latitude',\n",
       " 'end_station_longitude',\n",
       " 'bike_id',\n",
       " 'user_type',\n",
       " 'member_birth_year',\n",
       " 'member_gender',\n",
       " 'bike_share_for_all_trip']"
      ]
     },
     "execution_count": 15,
     "metadata": {},
     "output_type": "execute_result"
    }
   ],
   "source": [
    "bay_area_cols"
   ]
  },
  {
   "cell_type": "code",
   "execution_count": 16,
   "metadata": {},
   "outputs": [
    {
     "name": "stderr",
     "output_type": "stream",
     "text": [
      "c:\\users\\hitesh somani\\documents\\udacity\\capstone_project\\udacity_venv\\lib\\site-packages\\ipykernel_launcher.py:3: FutureWarning: Sorting because non-concatenation axis is not aligned. A future version\n",
      "of pandas will change to not sort by default.\n",
      "\n",
      "To accept the future behavior, pass 'sort=False'.\n",
      "\n",
      "To retain the current behavior and silence the warning, pass 'sort=True'.\n",
      "\n",
      "  This is separate from the ipykernel package so we can avoid doing imports until\n"
     ]
    }
   ],
   "source": [
    "# Write code here\n",
    "station = pd.concat([bay_area.loc[:,['start_station_id','start_station_name','start_station_latitude','start_station_longitude']].drop_duplicates(),\n",
    "          bay_area.loc[:,['end_station_id','end_station_name','end_station_latitude','end_station_longitude']].drop_duplicates()], axis=0)\n",
    "#station = pd.DataFrame(data = bay_area.loc[:, ['']])"
   ]
  },
  {
   "cell_type": "code",
   "execution_count": 18,
   "metadata": {},
   "outputs": [
    {
     "data": {
      "text/html": [
       "<div>\n",
       "<style scoped>\n",
       "    .dataframe tbody tr th:only-of-type {\n",
       "        vertical-align: middle;\n",
       "    }\n",
       "\n",
       "    .dataframe tbody tr th {\n",
       "        vertical-align: top;\n",
       "    }\n",
       "\n",
       "    .dataframe thead th {\n",
       "        text-align: right;\n",
       "    }\n",
       "</style>\n",
       "<table border=\"1\" class=\"dataframe\">\n",
       "  <thead>\n",
       "    <tr style=\"text-align: right;\">\n",
       "      <th></th>\n",
       "      <th>start_station_id</th>\n",
       "      <th>start_station_name</th>\n",
       "      <th>start_station_latitude</th>\n",
       "      <th>start_station_longitude</th>\n",
       "    </tr>\n",
       "  </thead>\n",
       "  <tbody>\n",
       "    <tr>\n",
       "      <td>1</td>\n",
       "      <td>368</td>\n",
       "      <td>Myrtle St at Polk St</td>\n",
       "      <td>37.785434</td>\n",
       "      <td>-122.419622</td>\n",
       "    </tr>\n",
       "    <tr>\n",
       "      <td>3</td>\n",
       "      <td>104</td>\n",
       "      <td>4th St at 16th St</td>\n",
       "      <td>37.767045</td>\n",
       "      <td>-122.390833</td>\n",
       "    </tr>\n",
       "    <tr>\n",
       "      <td>6</td>\n",
       "      <td>323</td>\n",
       "      <td>Broadway at Kearny</td>\n",
       "      <td>37.798014</td>\n",
       "      <td>-122.405950</td>\n",
       "    </tr>\n",
       "    <tr>\n",
       "      <td>10</td>\n",
       "      <td>276</td>\n",
       "      <td>Julian St at The Alameda</td>\n",
       "      <td>37.332233</td>\n",
       "      <td>-121.912517</td>\n",
       "    </tr>\n",
       "    <tr>\n",
       "      <td>11</td>\n",
       "      <td>259</td>\n",
       "      <td>Addison St at Fourth St</td>\n",
       "      <td>37.866249</td>\n",
       "      <td>-122.299371</td>\n",
       "    </tr>\n",
       "    <tr>\n",
       "      <td>...</td>\n",
       "      <td>...</td>\n",
       "      <td>...</td>\n",
       "      <td>...</td>\n",
       "      <td>...</td>\n",
       "    </tr>\n",
       "    <tr>\n",
       "      <td>90284</td>\n",
       "      <td>425</td>\n",
       "      <td>Bird Ave at Willow St</td>\n",
       "      <td>37.311284</td>\n",
       "      <td>-121.896325</td>\n",
       "    </tr>\n",
       "    <tr>\n",
       "      <td>102263</td>\n",
       "      <td>397</td>\n",
       "      <td>Gish Rd at 1st St</td>\n",
       "      <td>37.361867</td>\n",
       "      <td>-121.909315</td>\n",
       "    </tr>\n",
       "    <tr>\n",
       "      <td>118932</td>\n",
       "      <td>396</td>\n",
       "      <td>Metro Dr at Technology Dr</td>\n",
       "      <td>37.367678</td>\n",
       "      <td>-121.918794</td>\n",
       "    </tr>\n",
       "    <tr>\n",
       "      <td>126082</td>\n",
       "      <td>344</td>\n",
       "      <td>16th St Depot</td>\n",
       "      <td>37.766349</td>\n",
       "      <td>-122.396292</td>\n",
       "    </tr>\n",
       "    <tr>\n",
       "      <td>141764</td>\n",
       "      <td>367</td>\n",
       "      <td>Outside Lands (Temporary Station)</td>\n",
       "      <td>37.771104</td>\n",
       "      <td>-122.473658</td>\n",
       "    </tr>\n",
       "  </tbody>\n",
       "</table>\n",
       "<p>376 rows × 4 columns</p>\n",
       "</div>"
      ],
      "text/plain": [
       "        start_station_id                 start_station_name  \\\n",
       "1                    368               Myrtle St at Polk St   \n",
       "3                    104                  4th St at 16th St   \n",
       "6                    323                 Broadway at Kearny   \n",
       "10                   276           Julian St at The Alameda   \n",
       "11                   259            Addison St at Fourth St   \n",
       "...                  ...                                ...   \n",
       "90284                425              Bird Ave at Willow St   \n",
       "102263               397                  Gish Rd at 1st St   \n",
       "118932               396          Metro Dr at Technology Dr   \n",
       "126082               344                      16th St Depot   \n",
       "141764               367  Outside Lands (Temporary Station)   \n",
       "\n",
       "        start_station_latitude  start_station_longitude  \n",
       "1                    37.785434              -122.419622  \n",
       "3                    37.767045              -122.390833  \n",
       "6                    37.798014              -122.405950  \n",
       "10                   37.332233              -121.912517  \n",
       "11                   37.866249              -122.299371  \n",
       "...                        ...                      ...  \n",
       "90284                37.311284              -121.896325  \n",
       "102263               37.361867              -121.909315  \n",
       "118932               37.367678              -121.918794  \n",
       "126082               37.766349              -122.396292  \n",
       "141764               37.771104              -122.473658  \n",
       "\n",
       "[376 rows x 4 columns]"
      ]
     },
     "execution_count": 18,
     "metadata": {},
     "output_type": "execute_result"
    }
   ],
   "source": [
    "bay_area.loc[:,['start_station_id','start_station_name','start_station_latitude','start_station_longitude']].drop_duplicates()"
   ]
  },
  {
   "cell_type": "markdown",
   "metadata": {},
   "source": [
    "#### 4.2 Data Quality Checks\n",
    "Explain the data quality checks you'll perform to ensure the pipeline ran as expected. These could include:\n",
    " * Integrity constraints on the relational database (e.g., unique key, data type, etc.)\n",
    " * Unit tests for the scripts to ensure they are doing the right thing\n",
    " * Source/Count checks to ensure completeness\n",
    " \n",
    "Run Quality Checks"
   ]
  },
  {
   "cell_type": "code",
   "execution_count": null,
   "metadata": {},
   "outputs": [],
   "source": [
    "# Perform quality checks here"
   ]
  },
  {
   "cell_type": "markdown",
   "metadata": {},
   "source": [
    "#### 4.3 Data dictionary \n",
    "Create a data dictionary for your data model. For each field, provide a brief description of what the data is and where it came from. You can include the data dictionary in the notebook or in a separate file."
   ]
  },
  {
   "cell_type": "markdown",
   "metadata": {},
   "source": [
    "#### Step 5: Complete Project Write Up\n",
    "* Clearly state the rationale for the choice of tools and technologies for the project.\n",
    "* Propose how often the data should be updated and why.\n",
    "* Write a description of how you would approach the problem differently under the following scenarios:\n",
    " * The data was increased by 100x.\n",
    " * The data populates a dashboard that must be updated on a daily basis by 7am every day.\n",
    " * The database needed to be accessed by 100+ people."
   ]
  },
  {
   "cell_type": "code",
   "execution_count": null,
   "metadata": {},
   "outputs": [],
   "source": []
  },
  {
   "cell_type": "code",
   "execution_count": null,
   "metadata": {},
   "outputs": [],
   "source": []
  },
  {
   "cell_type": "code",
   "execution_count": null,
   "metadata": {},
   "outputs": [],
   "source": []
  },
  {
   "cell_type": "code",
   "execution_count": null,
   "metadata": {},
   "outputs": [],
   "source": []
  },
  {
   "cell_type": "code",
   "execution_count": null,
   "metadata": {},
   "outputs": [],
   "source": []
  },
  {
   "cell_type": "code",
   "execution_count": null,
   "metadata": {},
   "outputs": [],
   "source": []
  }
 ],
 "metadata": {
  "kernelspec": {
   "display_name": "Python 3",
   "language": "python",
   "name": "python3"
  },
  "language_info": {
   "codemirror_mode": {
    "name": "ipython",
    "version": 3
   },
   "file_extension": ".py",
   "mimetype": "text/x-python",
   "name": "python",
   "nbconvert_exporter": "python",
   "pygments_lexer": "ipython3",
   "version": "3.7.4"
  }
 },
 "nbformat": 4,
 "nbformat_minor": 4
}
