{
 "cells": [
  {
   "cell_type": "markdown",
   "metadata": {},
   "source": [
    "# BikeSharing Data Model\n",
    "### Data Engineering Capstone Project"
   ]
  },
  {
   "cell_type": "code",
   "execution_count": 2,
   "metadata": {},
   "outputs": [],
   "source": [
    "# Do all imports and installs here\n",
    "import pandas as pd"
   ]
  },
  {
   "cell_type": "code",
   "execution_count": 3,
   "metadata": {},
   "outputs": [],
   "source": [
    "# Read in the data here\n",
    "bay_area = pd.read_csv(\"C:\\\\Users\\\\Hitesh Somani\\\\Documents\\\\udacity\\\\capstone_project\\\\baywheels_bay_area\\\\201908-bay-area-tripdata.csv\")\n",
    "nyc = pd.read_csv(\"C:\\\\Users\\\\Hitesh Somani\\\\Documents\\\\udacity\\\\capstone_project\\\\citibike_nyc\\\\201908-nyc-tripdata.csv\")"
   ]
  },
  {
   "cell_type": "markdown",
   "metadata": {},
   "source": [
    "### Step 2: Explore and Assess the Data\n",
    "#### Explore the Data \n",
    "Identify data quality issues, like missing values, duplicate data, etc.\n",
    "\n",
    "#### Cleaning Steps\n",
    "Document steps necessary to clean the data\n",
    "\n",
    "- We have few missing in both the tables \n",
    "- The column names are not same\n",
    "- There is no duplication\n",
    "- mapping of gender column"
   ]
  },
  {
   "cell_type": "code",
   "execution_count": 4,
   "metadata": {},
   "outputs": [
    {
     "data": {
      "text/plain": [
       "duration_sec               0.000000\n",
       "start_time                 0.000000\n",
       "end_time                   0.000000\n",
       "start_station_id           0.000000\n",
       "start_station_name         0.000000\n",
       "start_station_latitude     0.000000\n",
       "start_station_longitude    0.000000\n",
       "end_station_id             0.000000\n",
       "end_station_name           0.000000\n",
       "end_station_latitude       0.000000\n",
       "end_station_longitude      0.000000\n",
       "bike_id                    0.000000\n",
       "user_type                  0.000000\n",
       "member_birth_year          0.188965\n",
       "member_gender              0.188951\n",
       "bike_share_for_all_trip    0.000000\n",
       "dtype: float64"
      ]
     },
     "execution_count": 4,
     "metadata": {},
     "output_type": "execute_result"
    }
   ],
   "source": [
    "# Performing cleaning tasks here\n",
    "bay_area.isnull().sum()/ bay_area.shape[0]"
   ]
  },
  {
   "cell_type": "code",
   "execution_count": 5,
   "metadata": {},
   "outputs": [
    {
     "data": {
      "text/plain": [
       "duration_sec                 int64\n",
       "start_time                  object\n",
       "end_time                    object\n",
       "start_station_id             int64\n",
       "start_station_name          object\n",
       "start_station_latitude     float64\n",
       "start_station_longitude    float64\n",
       "end_station_id               int64\n",
       "end_station_name            object\n",
       "end_station_latitude       float64\n",
       "end_station_longitude      float64\n",
       "bike_id                      int64\n",
       "user_type                   object\n",
       "member_birth_year          float64\n",
       "member_gender               object\n",
       "bike_share_for_all_trip     object\n",
       "dtype: object"
      ]
     },
     "execution_count": 5,
     "metadata": {},
     "output_type": "execute_result"
    }
   ],
   "source": [
    "bay_area.dtypes"
   ]
  },
  {
   "cell_type": "code",
   "execution_count": 6,
   "metadata": {},
   "outputs": [
    {
     "data": {
      "text/plain": [
       "tripduration               0.000000\n",
       "starttime                  0.000000\n",
       "stoptime                   0.000000\n",
       "start station id           0.000038\n",
       "start station name         0.000038\n",
       "start station latitude     0.000000\n",
       "start station longitude    0.000000\n",
       "end station id             0.000038\n",
       "end station name           0.000038\n",
       "end station latitude       0.000000\n",
       "end station longitude      0.000000\n",
       "bikeid                     0.000000\n",
       "usertype                   0.000000\n",
       "birth year                 0.000000\n",
       "gender                     0.000000\n",
       "dtype: float64"
      ]
     },
     "execution_count": 6,
     "metadata": {},
     "output_type": "execute_result"
    }
   ],
   "source": [
    "nyc.isnull().sum()/nyc.shape[0]"
   ]
  },
  {
   "cell_type": "markdown",
   "metadata": {},
   "source": [
    "We have few missing in both the tables and also the column names are not same"
   ]
  },
  {
   "cell_type": "code",
   "execution_count": 7,
   "metadata": {},
   "outputs": [
    {
     "name": "stdout",
     "output_type": "stream",
     "text": [
      "0\n",
      "0\n"
     ]
    }
   ],
   "source": [
    "# Check duplication. So no duplication exists\n",
    "print(bay_area.duplicated().sum())\n",
    "print(nyc.duplicated().sum())"
   ]
  },
  {
   "cell_type": "code",
   "execution_count": 10,
   "metadata": {},
   "outputs": [
    {
     "data": {
      "text/plain": [
       "array([nan, 'Female', 'Male', 'Other'], dtype=object)"
      ]
     },
     "execution_count": 10,
     "metadata": {},
     "output_type": "execute_result"
    }
   ],
   "source": [
    "bay_area['member_gender'].unique()"
   ]
  },
  {
   "cell_type": "code",
   "execution_count": 11,
   "metadata": {},
   "outputs": [
    {
     "data": {
      "text/plain": [
       "array([2, 1, 0], dtype=int64)"
      ]
     },
     "execution_count": 11,
     "metadata": {},
     "output_type": "execute_result"
    }
   ],
   "source": [
    "nyc['gender'].unique()"
   ]
  },
  {
   "cell_type": "code",
   "execution_count": null,
   "metadata": {},
   "outputs": [],
   "source": []
  }
 ],
 "metadata": {
  "kernelspec": {
   "display_name": "udacity_venv",
   "language": "python",
   "name": "udacity_venv"
  },
  "language_info": {
   "codemirror_mode": {
    "name": "ipython",
    "version": 3
   },
   "file_extension": ".py",
   "mimetype": "text/x-python",
   "name": "python",
   "nbconvert_exporter": "python",
   "pygments_lexer": "ipython3",
   "version": "3.7.4"
  }
 },
 "nbformat": 4,
 "nbformat_minor": 4
}
